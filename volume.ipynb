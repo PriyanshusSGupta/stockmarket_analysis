{
 "cells": [
  {
   "cell_type": "markdown",
   "metadata": {
    "collapsed": true,
    "pycharm": {
     "name": "#%% md\n"
    }
   },
   "source": [
    "Volume Confirmation: Volume should ideally confirm the price movement. If the price of a stock is rising, higher volume is generally considered positive, indicating increased buying pressure. Conversely, if the price is falling, higher volume suggests greater selling pressure.\n",
    "\n",
    "Breakouts and Reversals: Volume analysis can be particularly useful when identifying breakouts and reversals. Breakouts occur when a stock's price moves above a significant resistance level on high volume, indicating a potential trend continuation. Reversals, on the other hand, often accompany sharp price movements accompanied by a surge in volume.\n",
    "\n",
    "Volume Patterns: Traders often look for specific volume patterns to gain insights into market sentiment. For example, a steady increase in volume over time may indicate accumulation or distribution by institutional investors. Additionally, spikes in volume can indicate panic selling or buying frenzies, suggesting potential market extremes.\n",
    "\n",
    "Volume Divergence: Divergence occurs when the price of a stock moves in one direction while volume moves in the opposite direction. For instance, if a stock is experiencing a significant upward price movement but volume is decreasing, it might signal a lack of conviction behind the rally, potentially leading to a reversal.\n",
    "\n",
    "Volume Analysis with Indicators: Volume analysis can be combined with technical indicators to enhance trading decisions. For example, traders often use volume-based indicators such as on-balance volume (OBV) or volume-weighted average price (VWAP) to confirm or diverge from price-based indicators like moving averages or relative strength index (RSI)."
   ]
  },
  {
   "cell_type": "code",
   "execution_count": 2,
   "outputs": [],
   "source": [
    "import pandas as pd\n",
    "import yfinance as yf\n",
    "from datetime import date\n",
    "import matplotlib.pyplot as plt\n",
    "import numpy as np"
   ],
   "metadata": {
    "collapsed": false,
    "pycharm": {
     "name": "#%%\n"
    }
   }
  },
  {
   "cell_type": "code",
   "execution_count": 3,
   "outputs": [
    {
     "data": {
      "text/plain": "              Open    High    Low   Close    Volume\nDate                                               \n2023-05-22  421.95  425.75  419.1  424.75  15421680\n2023-05-23  426.00  431.20  424.2  429.15   8732608\n2023-05-24  428.30  434.75  427.0  433.50  11479706\n2023-05-25  436.95  442.45  434.8  441.15  18204464\n2023-05-26  443.40  444.75  439.5  443.60  12995706",
      "text/html": "<div>\n<style scoped>\n    .dataframe tbody tr th:only-of-type {\n        vertical-align: middle;\n    }\n\n    .dataframe tbody tr th {\n        vertical-align: top;\n    }\n\n    .dataframe thead th {\n        text-align: right;\n    }\n</style>\n<table border=\"1\" class=\"dataframe\">\n  <thead>\n    <tr style=\"text-align: right;\">\n      <th></th>\n      <th>Open</th>\n      <th>High</th>\n      <th>Low</th>\n      <th>Close</th>\n      <th>Volume</th>\n    </tr>\n    <tr>\n      <th>Date</th>\n      <th></th>\n      <th></th>\n      <th></th>\n      <th></th>\n      <th></th>\n    </tr>\n  </thead>\n  <tbody>\n    <tr>\n      <th>2023-05-22</th>\n      <td>421.95</td>\n      <td>425.75</td>\n      <td>419.1</td>\n      <td>424.75</td>\n      <td>15421680</td>\n    </tr>\n    <tr>\n      <th>2023-05-23</th>\n      <td>426.00</td>\n      <td>431.20</td>\n      <td>424.2</td>\n      <td>429.15</td>\n      <td>8732608</td>\n    </tr>\n    <tr>\n      <th>2023-05-24</th>\n      <td>428.30</td>\n      <td>434.75</td>\n      <td>427.0</td>\n      <td>433.50</td>\n      <td>11479706</td>\n    </tr>\n    <tr>\n      <th>2023-05-25</th>\n      <td>436.95</td>\n      <td>442.45</td>\n      <td>434.8</td>\n      <td>441.15</td>\n      <td>18204464</td>\n    </tr>\n    <tr>\n      <th>2023-05-26</th>\n      <td>443.40</td>\n      <td>444.75</td>\n      <td>439.5</td>\n      <td>443.60</td>\n      <td>12995706</td>\n    </tr>\n  </tbody>\n</table>\n</div>"
     },
     "execution_count": 3,
     "metadata": {},
     "output_type": "execute_result"
    }
   ],
   "source": [
    "stocksymbols = 'ITC.NS'\n",
    "ticker = yf.Ticker(stocksymbols)\n",
    "end = date.today()\n",
    "start = \"2020-01-01\"\n",
    "df = ticker.history(interval=\"1d\",start=start,end=end)\n",
    "df.index = df.index.strftime('%d-%m-%y')\n",
    "df.index = pd.to_datetime(df.index, format='%d-%m-%y')\n",
    "df = df.loc[:,['Open','High','Low','Close','Volume']]\n",
    "df = df.round(2)\n",
    "df.tail()"
   ],
   "metadata": {
    "collapsed": false,
    "pycharm": {
     "name": "#%%\n"
    }
   }
  },
  {
   "cell_type": "code",
   "execution_count": 4,
   "outputs": [
    {
     "name": "stderr",
     "output_type": "stream",
     "text": [
      "C:\\Users\\Harsh\\AppData\\Local\\Temp\\ipykernel_12212\\3027691458.py:8: SettingWithCopyWarning: \n",
      "A value is trying to be set on a copy of a slice from a DataFrame\n",
      "\n",
      "See the caveats in the documentation: https://pandas.pydata.org/pandas-docs/stable/user_guide/indexing.html#returning-a-view-versus-a-copy\n",
      "  df['Volume_Confirmation'].iloc[i] = 'Positive_Volume_Confirmation'\n",
      "C:\\Users\\Harsh\\AppData\\Local\\Temp\\ipykernel_12212\\3027691458.py:10: SettingWithCopyWarning: \n",
      "A value is trying to be set on a copy of a slice from a DataFrame\n",
      "\n",
      "See the caveats in the documentation: https://pandas.pydata.org/pandas-docs/stable/user_guide/indexing.html#returning-a-view-versus-a-copy\n",
      "  df['Volume_Confirmation'].iloc[i] = 'Negative_Volume_Confirmation'\n"
     ]
    },
    {
     "data": {
      "text/plain": "              Open    High     Low   Close    Volume  \\\nDate                                                   \n2020-01-01  202.78  202.78  201.50  202.35   4208837   \n2020-01-02  202.44  204.78  202.35  203.84   8402979   \n2020-01-03  204.82  204.82  202.27  202.69   9284478   \n2020-01-06  201.84  202.52  199.72  199.80   7636617   \n2020-01-07  200.61  202.18  199.38  200.02   8416741   \n...            ...     ...     ...     ...       ...   \n2023-05-22  421.95  425.75  419.10  424.75  15421680   \n2023-05-23  426.00  431.20  424.20  429.15   8732608   \n2023-05-24  428.30  434.75  427.00  433.50  11479706   \n2023-05-25  436.95  442.45  434.80  441.15  18204464   \n2023-05-26  443.40  444.75  439.50  443.60  12995706   \n\n                     Volume_Confirmation  \nDate                                      \n2020-01-01        No_Volume_Confirmation  \n2020-01-02  Positive_Volume_Confirmation  \n2020-01-03  Negative_Volume_Confirmation  \n2020-01-06        No_Volume_Confirmation  \n2020-01-07  Positive_Volume_Confirmation  \n...                                  ...  \n2023-05-22        No_Volume_Confirmation  \n2023-05-23        No_Volume_Confirmation  \n2023-05-24  Positive_Volume_Confirmation  \n2023-05-25  Positive_Volume_Confirmation  \n2023-05-26        No_Volume_Confirmation  \n\n[845 rows x 6 columns]",
      "text/html": "<div>\n<style scoped>\n    .dataframe tbody tr th:only-of-type {\n        vertical-align: middle;\n    }\n\n    .dataframe tbody tr th {\n        vertical-align: top;\n    }\n\n    .dataframe thead th {\n        text-align: right;\n    }\n</style>\n<table border=\"1\" class=\"dataframe\">\n  <thead>\n    <tr style=\"text-align: right;\">\n      <th></th>\n      <th>Open</th>\n      <th>High</th>\n      <th>Low</th>\n      <th>Close</th>\n      <th>Volume</th>\n      <th>Volume_Confirmation</th>\n    </tr>\n    <tr>\n      <th>Date</th>\n      <th></th>\n      <th></th>\n      <th></th>\n      <th></th>\n      <th></th>\n      <th></th>\n    </tr>\n  </thead>\n  <tbody>\n    <tr>\n      <th>2020-01-01</th>\n      <td>202.78</td>\n      <td>202.78</td>\n      <td>201.50</td>\n      <td>202.35</td>\n      <td>4208837</td>\n      <td>No_Volume_Confirmation</td>\n    </tr>\n    <tr>\n      <th>2020-01-02</th>\n      <td>202.44</td>\n      <td>204.78</td>\n      <td>202.35</td>\n      <td>203.84</td>\n      <td>8402979</td>\n      <td>Positive_Volume_Confirmation</td>\n    </tr>\n    <tr>\n      <th>2020-01-03</th>\n      <td>204.82</td>\n      <td>204.82</td>\n      <td>202.27</td>\n      <td>202.69</td>\n      <td>9284478</td>\n      <td>Negative_Volume_Confirmation</td>\n    </tr>\n    <tr>\n      <th>2020-01-06</th>\n      <td>201.84</td>\n      <td>202.52</td>\n      <td>199.72</td>\n      <td>199.80</td>\n      <td>7636617</td>\n      <td>No_Volume_Confirmation</td>\n    </tr>\n    <tr>\n      <th>2020-01-07</th>\n      <td>200.61</td>\n      <td>202.18</td>\n      <td>199.38</td>\n      <td>200.02</td>\n      <td>8416741</td>\n      <td>Positive_Volume_Confirmation</td>\n    </tr>\n    <tr>\n      <th>...</th>\n      <td>...</td>\n      <td>...</td>\n      <td>...</td>\n      <td>...</td>\n      <td>...</td>\n      <td>...</td>\n    </tr>\n    <tr>\n      <th>2023-05-22</th>\n      <td>421.95</td>\n      <td>425.75</td>\n      <td>419.10</td>\n      <td>424.75</td>\n      <td>15421680</td>\n      <td>No_Volume_Confirmation</td>\n    </tr>\n    <tr>\n      <th>2023-05-23</th>\n      <td>426.00</td>\n      <td>431.20</td>\n      <td>424.20</td>\n      <td>429.15</td>\n      <td>8732608</td>\n      <td>No_Volume_Confirmation</td>\n    </tr>\n    <tr>\n      <th>2023-05-24</th>\n      <td>428.30</td>\n      <td>434.75</td>\n      <td>427.00</td>\n      <td>433.50</td>\n      <td>11479706</td>\n      <td>Positive_Volume_Confirmation</td>\n    </tr>\n    <tr>\n      <th>2023-05-25</th>\n      <td>436.95</td>\n      <td>442.45</td>\n      <td>434.80</td>\n      <td>441.15</td>\n      <td>18204464</td>\n      <td>Positive_Volume_Confirmation</td>\n    </tr>\n    <tr>\n      <th>2023-05-26</th>\n      <td>443.40</td>\n      <td>444.75</td>\n      <td>439.50</td>\n      <td>443.60</td>\n      <td>12995706</td>\n      <td>No_Volume_Confirmation</td>\n    </tr>\n  </tbody>\n</table>\n<p>845 rows × 6 columns</p>\n</div>"
     },
     "execution_count": 4,
     "metadata": {},
     "output_type": "execute_result"
    }
   ],
   "source": [
    "def volume_confirmation(df):\n",
    "    # Check if the price is rising or falling\n",
    "    df['Price_Movement'] = df['Close'].diff().fillna(0)\n",
    "    df['Volume_Confirmation'] = 'No_Volume_Confirmation'\n",
    "\n",
    "    for i in range(1, len(df)):\n",
    "        if df['Price_Movement'].iloc[i] > 0 and df['Volume'].iloc[i] > df['Volume'].iloc[i-1]:\n",
    "            df['Volume_Confirmation'].iloc[i] = 'Positive_Volume_Confirmation'\n",
    "        elif df['Price_Movement'].iloc[i] < 0 and df['Volume'].iloc[i] > df['Volume'].iloc[i-1]:\n",
    "            df['Volume_Confirmation'].iloc[i] = 'Negative_Volume_Confirmation'\n",
    "\n",
    "    # Remove temporary columns\n",
    "    df = df.drop(['Price_Movement'], axis=1)\n",
    "    df = df.fillna(0)\n",
    "    return df\n",
    "\n",
    "\n",
    "df1 = volume_confirmation(df)\n",
    "df1"
   ],
   "metadata": {
    "collapsed": false,
    "pycharm": {
     "name": "#%%\n"
    }
   }
  },
  {
   "cell_type": "code",
   "execution_count": 5,
   "outputs": [
    {
     "data": {
      "text/plain": "              Open    High     Low   Close    Volume  \\\nDate                                                   \n2020-01-01  202.78  202.78  201.50  202.35   4208837   \n2020-01-02  202.44  204.78  202.35  203.84   8402979   \n2020-01-03  204.82  204.82  202.27  202.69   9284478   \n2020-01-06  201.84  202.52  199.72  199.80   7636617   \n2020-01-07  200.61  202.18  199.38  200.02   8416741   \n...            ...     ...     ...     ...       ...   \n2023-05-22  421.95  425.75  419.10  424.75  15421680   \n2023-05-23  426.00  431.20  424.20  429.15   8732608   \n2023-05-24  428.30  434.75  427.00  433.50  11479706   \n2023-05-25  436.95  442.45  434.80  441.15  18204464   \n2023-05-26  443.40  444.75  439.50  443.60  12995706   \n\n                     Volume_Confirmation  Breakout  Reversal  \nDate                                                          \n2020-01-01        No_Volume_Confirmation         0         0  \n2020-01-02  Positive_Volume_Confirmation         0         1  \n2020-01-03  Negative_Volume_Confirmation         0         1  \n2020-01-06        No_Volume_Confirmation         0         0  \n2020-01-07  Positive_Volume_Confirmation         0         1  \n...                                  ...       ...       ...  \n2023-05-22        No_Volume_Confirmation         0         0  \n2023-05-23        No_Volume_Confirmation         0         0  \n2023-05-24  Positive_Volume_Confirmation         0         0  \n2023-05-25  Positive_Volume_Confirmation         0         0  \n2023-05-26        No_Volume_Confirmation         0         0  \n\n[845 rows x 8 columns]",
      "text/html": "<div>\n<style scoped>\n    .dataframe tbody tr th:only-of-type {\n        vertical-align: middle;\n    }\n\n    .dataframe tbody tr th {\n        vertical-align: top;\n    }\n\n    .dataframe thead th {\n        text-align: right;\n    }\n</style>\n<table border=\"1\" class=\"dataframe\">\n  <thead>\n    <tr style=\"text-align: right;\">\n      <th></th>\n      <th>Open</th>\n      <th>High</th>\n      <th>Low</th>\n      <th>Close</th>\n      <th>Volume</th>\n      <th>Volume_Confirmation</th>\n      <th>Breakout</th>\n      <th>Reversal</th>\n    </tr>\n    <tr>\n      <th>Date</th>\n      <th></th>\n      <th></th>\n      <th></th>\n      <th></th>\n      <th></th>\n      <th></th>\n      <th></th>\n      <th></th>\n    </tr>\n  </thead>\n  <tbody>\n    <tr>\n      <th>2020-01-01</th>\n      <td>202.78</td>\n      <td>202.78</td>\n      <td>201.50</td>\n      <td>202.35</td>\n      <td>4208837</td>\n      <td>No_Volume_Confirmation</td>\n      <td>0</td>\n      <td>0</td>\n    </tr>\n    <tr>\n      <th>2020-01-02</th>\n      <td>202.44</td>\n      <td>204.78</td>\n      <td>202.35</td>\n      <td>203.84</td>\n      <td>8402979</td>\n      <td>Positive_Volume_Confirmation</td>\n      <td>0</td>\n      <td>1</td>\n    </tr>\n    <tr>\n      <th>2020-01-03</th>\n      <td>204.82</td>\n      <td>204.82</td>\n      <td>202.27</td>\n      <td>202.69</td>\n      <td>9284478</td>\n      <td>Negative_Volume_Confirmation</td>\n      <td>0</td>\n      <td>1</td>\n    </tr>\n    <tr>\n      <th>2020-01-06</th>\n      <td>201.84</td>\n      <td>202.52</td>\n      <td>199.72</td>\n      <td>199.80</td>\n      <td>7636617</td>\n      <td>No_Volume_Confirmation</td>\n      <td>0</td>\n      <td>0</td>\n    </tr>\n    <tr>\n      <th>2020-01-07</th>\n      <td>200.61</td>\n      <td>202.18</td>\n      <td>199.38</td>\n      <td>200.02</td>\n      <td>8416741</td>\n      <td>Positive_Volume_Confirmation</td>\n      <td>0</td>\n      <td>1</td>\n    </tr>\n    <tr>\n      <th>...</th>\n      <td>...</td>\n      <td>...</td>\n      <td>...</td>\n      <td>...</td>\n      <td>...</td>\n      <td>...</td>\n      <td>...</td>\n      <td>...</td>\n    </tr>\n    <tr>\n      <th>2023-05-22</th>\n      <td>421.95</td>\n      <td>425.75</td>\n      <td>419.10</td>\n      <td>424.75</td>\n      <td>15421680</td>\n      <td>No_Volume_Confirmation</td>\n      <td>0</td>\n      <td>0</td>\n    </tr>\n    <tr>\n      <th>2023-05-23</th>\n      <td>426.00</td>\n      <td>431.20</td>\n      <td>424.20</td>\n      <td>429.15</td>\n      <td>8732608</td>\n      <td>No_Volume_Confirmation</td>\n      <td>0</td>\n      <td>0</td>\n    </tr>\n    <tr>\n      <th>2023-05-24</th>\n      <td>428.30</td>\n      <td>434.75</td>\n      <td>427.00</td>\n      <td>433.50</td>\n      <td>11479706</td>\n      <td>Positive_Volume_Confirmation</td>\n      <td>0</td>\n      <td>0</td>\n    </tr>\n    <tr>\n      <th>2023-05-25</th>\n      <td>436.95</td>\n      <td>442.45</td>\n      <td>434.80</td>\n      <td>441.15</td>\n      <td>18204464</td>\n      <td>Positive_Volume_Confirmation</td>\n      <td>0</td>\n      <td>0</td>\n    </tr>\n    <tr>\n      <th>2023-05-26</th>\n      <td>443.40</td>\n      <td>444.75</td>\n      <td>439.50</td>\n      <td>443.60</td>\n      <td>12995706</td>\n      <td>No_Volume_Confirmation</td>\n      <td>0</td>\n      <td>0</td>\n    </tr>\n  </tbody>\n</table>\n<p>845 rows × 8 columns</p>\n</div>"
     },
     "execution_count": 5,
     "metadata": {},
     "output_type": "execute_result"
    }
   ],
   "source": [
    "def volume_analysis(df):\n",
    "    # Calculate price changes and their direction\n",
    "    df['Price_Change'] = df['Close'].diff()\n",
    "    df['Price_Direction'] = df['Price_Change'].apply(lambda x: 1 if x > 0 else (-1 if x < 0 else 0))\n",
    "\n",
    "    # Identify breakouts\n",
    "    df['Breakout'] = 0\n",
    "    resistance_level = df['High'].rolling(window=5).max()\n",
    "    breakout_mask = (df['Close'] > resistance_level) & (df['Volume'] > df['Volume'].shift())\n",
    "    df.loc[breakout_mask, 'Breakout'] = 1\n",
    "\n",
    "    # Identify reversals\n",
    "    df['Reversal'] = 0\n",
    "    sharp_price_change = df['Price_Change'].rolling(window=5).sum()\n",
    "    reversal_mask = (df['Price_Direction'].diff() != 0) & (df['Volume'] > df['Volume'].shift())\n",
    "    df.loc[reversal_mask, 'Reversal'] = 1\n",
    "\n",
    "    # Remove temporary columns\n",
    "    df = df.drop(['Price_Change', 'Price_Direction'], axis=1)\n",
    "    df = df.fillna(0)\n",
    "    return df\n",
    "df2 = volume_analysis(df1)\n",
    "df2"
   ],
   "metadata": {
    "collapsed": false,
    "pycharm": {
     "name": "#%%\n"
    }
   }
  },
  {
   "cell_type": "code",
   "execution_count": 6,
   "outputs": [
    {
     "name": "stdout",
     "output_type": "stream",
     "text": [
      "              Open    High     Low   Close    Volume  \\\n",
      "Date                                                   \n",
      "2020-01-01  202.78  202.78  201.50  202.35   4208837   \n",
      "2020-01-02  202.44  204.78  202.35  203.84   8402979   \n",
      "2020-01-03  204.82  204.82  202.27  202.69   9284478   \n",
      "2020-01-06  201.84  202.52  199.72  199.80   7636617   \n",
      "2020-01-07  200.61  202.18  199.38  200.02   8416741   \n",
      "...            ...     ...     ...     ...       ...   \n",
      "2023-05-22  421.95  425.75  419.10  424.75  15421680   \n",
      "2023-05-23  426.00  431.20  424.20  429.15   8732608   \n",
      "2023-05-24  428.30  434.75  427.00  433.50  11479706   \n",
      "2023-05-25  436.95  442.45  434.80  441.15  18204464   \n",
      "2023-05-26  443.40  444.75  439.50  443.60  12995706   \n",
      "\n",
      "                     Volume_Confirmation  Breakout  Reversal  Volume_Change  \\\n",
      "Date                                                                          \n",
      "2020-01-01        No_Volume_Confirmation         0         0       0.000000   \n",
      "2020-01-02  Positive_Volume_Confirmation         0         1       0.996509   \n",
      "2020-01-03  Negative_Volume_Confirmation         0         1       0.104903   \n",
      "2020-01-06        No_Volume_Confirmation         0         0      -0.177486   \n",
      "2020-01-07  Positive_Volume_Confirmation         0         1       0.102156   \n",
      "...                                  ...       ...       ...            ...   \n",
      "2023-05-22        No_Volume_Confirmation         0         0      -0.401507   \n",
      "2023-05-23        No_Volume_Confirmation         0         0      -0.433745   \n",
      "2023-05-24  Positive_Volume_Confirmation         0         0       0.314579   \n",
      "2023-05-25  Positive_Volume_Confirmation         0         0       0.585795   \n",
      "2023-05-26        No_Volume_Confirmation         0         0      -0.286125   \n",
      "\n",
      "            Volume_MA  Volume_Spike  Volume_Increase  \n",
      "Date                                                  \n",
      "2020-01-01   0.000000             0                0  \n",
      "2020-01-02   0.000000             0                0  \n",
      "2020-01-03   0.000000             0                0  \n",
      "2020-01-06   0.000000             0                0  \n",
      "2020-01-07   0.000000             0                1  \n",
      "...               ...           ...              ...  \n",
      "2023-05-22   0.252595             0                0  \n",
      "2023-05-23   0.191130             0                0  \n",
      "2023-05-24   0.216882             0                1  \n",
      "2023-05-25   0.027797             1                1  \n",
      "2023-05-26  -0.044200             0                0  \n",
      "\n",
      "[845 rows x 12 columns]\n"
     ]
    }
   ],
   "source": [
    "def calculate_volume_patterns(df):\n",
    "    # Calculate percentage change in volume\n",
    "    df['Volume_Change'] = df['Volume'].pct_change()\n",
    "\n",
    "    # Calculate moving average of volume change\n",
    "    df['Volume_MA'] = df['Volume_Change'].rolling(window=5).mean()\n",
    "\n",
    "    # Identify spikes in volume\n",
    "    df['Volume_Spike'] = (df['Volume_Change'] > 2 * df['Volume_MA']).astype(int)\n",
    "\n",
    "    # Identify steady increase in volume over time\n",
    "    df['Volume_Increase'] = (df['Volume_Change'] > df['Volume_Change'].shift(1)).astype(int)\n",
    "    df = df.fillna(0)\n",
    "    return df\n",
    "\n",
    "df3 = calculate_volume_patterns(df2)\n",
    "print(df3)"
   ],
   "metadata": {
    "collapsed": false,
    "pycharm": {
     "name": "#%%\n"
    }
   }
  },
  {
   "cell_type": "code",
   "execution_count": 8,
   "outputs": [
    {
     "name": "stderr",
     "output_type": "stream",
     "text": [
      "C:\\Users\\Harsh\\AppData\\Local\\Temp\\ipykernel_12212\\3133322006.py:10: SettingWithCopyWarning: \n",
      "A value is trying to be set on a copy of a slice from a DataFrame\n",
      "\n",
      "See the caveats in the documentation: https://pandas.pydata.org/pandas-docs/stable/user_guide/indexing.html#returning-a-view-versus-a-copy\n",
      "  df['Volume_Divergence'][i] = 'No_Divergence'\n",
      "C:\\Users\\Harsh\\AppData\\Local\\Temp\\ipykernel_12212\\3133322006.py:8: SettingWithCopyWarning: \n",
      "A value is trying to be set on a copy of a slice from a DataFrame\n",
      "\n",
      "See the caveats in the documentation: https://pandas.pydata.org/pandas-docs/stable/user_guide/indexing.html#returning-a-view-versus-a-copy\n",
      "  df['Volume_Divergence'][i] = 'Bullish_Divergence'\n",
      "C:\\Users\\Harsh\\AppData\\Local\\Temp\\ipykernel_12212\\3133322006.py:6: SettingWithCopyWarning: \n",
      "A value is trying to be set on a copy of a slice from a DataFrame\n",
      "\n",
      "See the caveats in the documentation: https://pandas.pydata.org/pandas-docs/stable/user_guide/indexing.html#returning-a-view-versus-a-copy\n",
      "  df['Volume_Divergence'][i] = 'Bearish_Divergence'\n"
     ]
    },
    {
     "name": "stdout",
     "output_type": "stream",
     "text": [
      "              Open    High     Low   Close    Volume  \\\n",
      "Date                                                   \n",
      "2020-01-01  202.78  202.78  201.50  202.35   4208837   \n",
      "2020-01-02  202.44  204.78  202.35  203.84   8402979   \n",
      "2020-01-03  204.82  204.82  202.27  202.69   9284478   \n",
      "2020-01-06  201.84  202.52  199.72  199.80   7636617   \n",
      "2020-01-07  200.61  202.18  199.38  200.02   8416741   \n",
      "...            ...     ...     ...     ...       ...   \n",
      "2023-05-22  421.95  425.75  419.10  424.75  15421680   \n",
      "2023-05-23  426.00  431.20  424.20  429.15   8732608   \n",
      "2023-05-24  428.30  434.75  427.00  433.50  11479706   \n",
      "2023-05-25  436.95  442.45  434.80  441.15  18204464   \n",
      "2023-05-26  443.40  444.75  439.50  443.60  12995706   \n",
      "\n",
      "                     Volume_Confirmation  Breakout  Reversal  Volume_Change  \\\n",
      "Date                                                                          \n",
      "2020-01-01        No_Volume_Confirmation         0         0       0.000000   \n",
      "2020-01-02  Positive_Volume_Confirmation         0         1       0.996509   \n",
      "2020-01-03  Negative_Volume_Confirmation         0         1       0.104903   \n",
      "2020-01-06        No_Volume_Confirmation         0         0      -0.177486   \n",
      "2020-01-07  Positive_Volume_Confirmation         0         1       0.102156   \n",
      "...                                  ...       ...       ...            ...   \n",
      "2023-05-22        No_Volume_Confirmation         0         0      -0.401507   \n",
      "2023-05-23        No_Volume_Confirmation         0         0      -0.433745   \n",
      "2023-05-24  Positive_Volume_Confirmation         0         0       0.314579   \n",
      "2023-05-25  Positive_Volume_Confirmation         0         0       0.585795   \n",
      "2023-05-26        No_Volume_Confirmation         0         0      -0.286125   \n",
      "\n",
      "            Volume_MA  Volume_Spike  Volume_Increase   Volume_Divergence  \n",
      "Date                                                                      \n",
      "2020-01-01   0.000000             0                0                None  \n",
      "2020-01-02   0.000000             0                0       No_Divergence  \n",
      "2020-01-03   0.000000             0                0  Bullish_Divergence  \n",
      "2020-01-06   0.000000             0                0       No_Divergence  \n",
      "2020-01-07   0.000000             0                1       No_Divergence  \n",
      "...               ...           ...              ...                 ...  \n",
      "2023-05-22   0.252595             0                0  Bearish_Divergence  \n",
      "2023-05-23   0.191130             0                0  Bearish_Divergence  \n",
      "2023-05-24   0.216882             0                1       No_Divergence  \n",
      "2023-05-25   0.027797             1                1       No_Divergence  \n",
      "2023-05-26  -0.044200             0                0  Bearish_Divergence  \n",
      "\n",
      "[845 rows x 13 columns]\n"
     ]
    }
   ],
   "source": [
    "def calculate_volume_divergence(df):\n",
    "    df['Volume_Divergence'] = None\n",
    "\n",
    "    for i in range(1, len(df)):\n",
    "        if df['Close'][i] > df['Close'][i-1] and df['Volume'][i] < df['Volume'][i-1]:\n",
    "            df['Volume_Divergence'][i] = 'Bearish_Divergence'\n",
    "        elif df['Close'][i] < df['Close'][i-1] and df['Volume'][i] > df['Volume'][i-1]:\n",
    "            df['Volume_Divergence'][i] = 'Bullish_Divergence'\n",
    "        else:\n",
    "            df['Volume_Divergence'][i] = 'No_Divergence'\n",
    "\n",
    "    return df\n",
    "df4 = calculate_volume_divergence(df3)\n",
    "print(df4)"
   ],
   "metadata": {
    "collapsed": false,
    "pycharm": {
     "name": "#%%\n"
    }
   }
  }
 ],
 "metadata": {
  "kernelspec": {
   "display_name": "Python 3",
   "language": "python",
   "name": "python3"
  },
  "language_info": {
   "codemirror_mode": {
    "name": "ipython",
    "version": 2
   },
   "file_extension": ".py",
   "mimetype": "text/x-python",
   "name": "python",
   "nbconvert_exporter": "python",
   "pygments_lexer": "ipython2",
   "version": "2.7.6"
  }
 },
 "nbformat": 4,
 "nbformat_minor": 0
}